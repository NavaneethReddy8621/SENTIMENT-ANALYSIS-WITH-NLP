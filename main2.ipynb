{
 "cells": [
  {
   "cell_type": "code",
   "execution_count": 154,
   "id": "38b8d437-19af-463d-9249-ba810d9b825e",
   "metadata": {},
   "outputs": [],
   "source": [
    "import pandas as pd\n",
    "from sklearn.model_selection import train_test_split\n",
    "from sklearn.feature_extraction.text import TfidfVectorizer\n",
    "from sklearn.linear_model import LogisticRegression\n",
    "from sklearn.metrics import accuracy_score, confusion_matrix, classification_report\n",
    "import matplotlib.pyplot as plt\n",
    "import seaborn as sns\n",
    "\n",
    "url = \"https://raw.githubusercontent.com/dD2405/Twitter_Sentiment_Analysis/master/train.csv\"\n",
    "df = pd.read_csv(url)"
   ]
  },
  {
   "cell_type": "code",
   "execution_count": 155,
   "id": "71a85445-b97a-4501-b118-8e23d77334bf",
   "metadata": {},
   "outputs": [],
   "source": [
    "df = df[['tweet', 'label']]\n",
    "df.columns = ['text', 'sentiment']"
   ]
  },
  {
   "cell_type": "code",
   "execution_count": 156,
   "id": "b5cae14a-a8f6-4b5c-980d-ff7875a52a96",
   "metadata": {},
   "outputs": [
    {
     "name": "stdout",
     "output_type": "stream",
     "text": [
      "Sentiment categories before processing: [0 1]\n"
     ]
    }
   ],
   "source": [
    "print(\"Sentiment categories before processing:\", df['sentiment'].unique())"
   ]
  },
  {
   "cell_type": "code",
   "execution_count": 157,
   "id": "870eb051-47b3-4b9c-9aa7-1b78bdd462e0",
   "metadata": {},
   "outputs": [
    {
     "name": "stdout",
     "output_type": "stream",
     "text": [
      "Notice: Sentiment values 0 and 4 not found, using available unique labels.\n"
     ]
    }
   ],
   "source": [
    "if 0 in df['sentiment'].values and 4 in df['sentiment'].values:\n",
    "    df = df[df['sentiment'].isin([0, 4])].copy()\n",
    "else:\n",
    "    print(\"Notice: Sentiment values 0 and 4 not found, using available unique labels.\")\n",
    "    available_labels = df['sentiment'].unique()\n",
    "    if len(unique_sentiments) >= 2:\n",
    "        df = df[df['sentiment'].isin(unique_sentiments[:2])].copy()"
   ]
  },
  {
   "cell_type": "code",
   "execution_count": 158,
   "id": "ffc6ec9d-1f71-4f66-87e7-289449956aba",
   "metadata": {},
   "outputs": [
    {
     "name": "stdout",
     "output_type": "stream",
     "text": [
      "class distribution  after filtering:\n",
      "sentiment\n",
      "0    29720\n",
      "1     2242\n",
      "Name: count, dtype: int64\n"
     ]
    }
   ],
   "source": [
    "print(\"class distribution  after filtering:\")\n",
    "print(df['sentiment'].value_counts())"
   ]
  },
  {
   "cell_type": "code",
   "execution_count": 159,
   "id": "059bfa66-504c-4fe2-a70c-fa54e97625b8",
   "metadata": {},
   "outputs": [],
   "source": [
    "df.dropna(inplace=True)"
   ]
  },
  {
   "cell_type": "code",
   "execution_count": 160,
   "id": "eb906fdb-7614-40df-87c4-f16df7d7acf6",
   "metadata": {},
   "outputs": [],
   "source": [
    "classes = sorted(df['sentiment'].unique())\n",
    "if len(classes) >= 2:\n",
    "    label_map = {classes[0]: 0, classes[1]: 1}\n",
    "    df['sentiment'] = df['sentiment'].map(label_map)"
   ]
  },
  {
   "cell_type": "code",
   "execution_count": 161,
   "id": "ecfe4321-0870-4f46-b2ad-ef4e59945b18",
   "metadata": {},
   "outputs": [
    {
     "name": "stdout",
     "output_type": "stream",
     "text": [
      "Class distribution after mapping:\n",
      "sentiment\n",
      "0    29720\n",
      "1     2242\n",
      "Name: count, dtype: int64\n"
     ]
    }
   ],
   "source": [
    "print(\"Class distribution after mapping:\")\n",
    "print(df['sentiment'].value_counts())"
   ]
  },
  {
   "cell_type": "code",
   "execution_count": 162,
   "id": "a646f548-4386-4850-b0b6-0b1f8e9d1ba1",
   "metadata": {},
   "outputs": [
    {
     "name": "stdout",
     "output_type": "stream",
     "text": [
      "\n",
      "Model Accuracy: 0.9485\n"
     ]
    },
    {
     "data": {
      "image/png": "[encoded data removed]",
      "text/plain": [
       "<Figure size 600x400 with 2 Axes>"
      ]
     },
     "metadata": {},
     "output_type": "display_data"
    }
   ],
   "source": [
    "if len(df['sentiment'].unique()) < 2:\n",
    "    print(\"Dataset contains only one class after processing, cannot proceed with classification\")\n",
    "else:\n",
    "    X_train, X_test, y_train, y_test = train_test_split(\n",
    "        df['text'], df['sentiment'], test_size=0.2, stratify=df['sentiment'], random_state=42)\n",
    "    vectoriser = TfidfVectorizer(stop_words='english', max_df=0.7)\n",
    "    X_train_vect = vectoriser.fit_transform(X_train)\n",
    "    X_test_vect = vectoriser.transform(X_test)\n",
    "\n",
    "    #Train Logistic Regression Model\n",
    "    classifier = LogisticRegression(max_iter=200)\n",
    "    classifier.fit(X_train_tfidf, y_train)\n",
    "\n",
    "    # Make Predictions\n",
    "    y_pred = classifier.predict(X_test_tfidf)\n",
    "\n",
    "    #Evaluate Accuracy\n",
    "    acc = accuracy_score(y_test, y_pred)\n",
    "    print(f\"\\nModel Accuracy: {accuracy:.4f}\")\n",
    "\n",
    "    #Confusion Matrix\n",
    "    cm = confusion_matrix(y_test, y_pred)\n",
    "    plt.figure(figsize=(6, 4))\n",
    "    sns.heatmap(cm, annot=True, fmt='d', cmap='Blues')\n",
    "    plt.title('Confusion Matrix')\n",
    "    plt.xlabel('Predicted Label')\n",
    "    plt.ylabel('Actual Label')\n",
    "    plt.show()"
   ]
  },
  {
   "cell_type": "code",
   "execution_count": 163,
   "id": "3bee979f-de6f-413f-b138-ba5e312b20c1",
   "metadata": {},
   "outputs": [
    {
     "name": "stdout",
     "output_type": "stream",
     "text": [
      "\n",
      "Classification Report:\n",
      "              precision    recall  f1-score   support\n",
      "\n",
      "    Negative       0.95      1.00      0.97      5945\n",
      "    Positive       0.92      0.29      0.44       448\n",
      "\n",
      "    accuracy                           0.95      6393\n",
      "   macro avg       0.93      0.65      0.71      6393\n",
      "weighted avg       0.95      0.95      0.94      6393\n",
      "\n"
     ]
    }
   ],
   "source": [
    "print(\"\\nClassification Report:\")\n",
    "print(classification_report(y_test, y_pred, target_names=['Negative', 'Positive']))"
   ]
  }
 ],
 "metadata": {
  "kernelspec": {
   "display_name": "Python [conda env:base] *",
   "language": "python",
   "name": "conda-base-py"
  },
  "language_info": {
   "codemirror_mode": {
    "name": "ipython",
    "version": 3
   },
   "file_extension": ".py",
   "mimetype": "text/x-python",
   "name": "python",
   "nbconvert_exporter": "python",
   "pygments_lexer": "ipython3",
   "version": "3.12.7"
  },
  "panel-cell-order": [
   "1326ad85-4ad0-46aa-a21b-127607700757",
   "f4e70d73-6a3c-4065-9e15-ed79b5a7d495",
   "501d26f1-bcfc-4946-a521-b102b9a97416"
  ]
 },
 "nbformat": 4,
 "nbformat_minor": 5
}
